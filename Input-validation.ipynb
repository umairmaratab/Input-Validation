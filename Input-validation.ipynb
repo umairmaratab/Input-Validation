{
 "cells": [
  {
   "cell_type": "code",
   "execution_count": 4,
   "id": "206164fd-55cd-4f56-8084-0a9d3cd7f502",
   "metadata": {},
   "outputs": [
    {
     "name": "stdout",
     "output_type": "stream",
     "text": [
      "Enter your age:\n"
     ]
    },
    {
     "name": "stdin",
     "output_type": "stream",
     "text": [
      " five\n"
     ]
    },
    {
     "name": "stdout",
     "output_type": "stream",
     "text": [
      "Please use numeric digits.\n",
      "Enter your age:\n"
     ]
    },
    {
     "name": "stdin",
     "output_type": "stream",
     "text": [
      " 10\n"
     ]
    },
    {
     "name": "stdout",
     "output_type": "stream",
     "text": [
      "Your age is 10.\n"
     ]
    }
   ],
   "source": [
    "# Input Validation Checker\n",
    "while True:\n",
    "    print('Enter your age:')\n",
    "    age = input()\n",
    "    try:\n",
    "        age = int(age)\n",
    "    except:\n",
    "        print('Please use numeric digits.')\n",
    "        continue\n",
    "    if age < 1:\n",
    "        print('Please enter a positive number.')\n",
    "        continue\n",
    "    break\n",
    "print(f'Your age is {age}.')"
   ]
  },
  {
   "cell_type": "code",
   "execution_count": null,
   "id": "2a4380c7-7ed1-4054-8b60-0a36d528e693",
   "metadata": {},
   "outputs": [],
   "source": [
    "# This is not good way of validating inputs as if we are taking 100 inputs we\n",
    "# to write 100 different pieces of code to validate so we will use PyInputPlus Module\n",
    "# https://pyinputplus.readthedocs.io/"
   ]
  },
  {
   "cell_type": "code",
   "execution_count": 5,
   "id": "daae1752-8b23-46a2-ad1d-88b897113fd8",
   "metadata": {},
   "outputs": [
    {
     "ename": "ModuleNotFoundError",
     "evalue": "No module named 'pyinputplus'",
     "output_type": "error",
     "traceback": [
      "\u001b[0;31m---------------------------------------------------------------------------\u001b[0m",
      "\u001b[0;31mModuleNotFoundError\u001b[0m                       Traceback (most recent call last)",
      "\u001b[0;32m/tmp/ipykernel_15994/982409356.py\u001b[0m in \u001b[0;36m<module>\u001b[0;34m\u001b[0m\n\u001b[0;32m----> 1\u001b[0;31m \u001b[0;32mimport\u001b[0m \u001b[0mpyinputplus\u001b[0m\u001b[0;34m\u001b[0m\u001b[0;34m\u001b[0m\u001b[0m\n\u001b[0m",
      "\u001b[0;31mModuleNotFoundError\u001b[0m: No module named 'pyinputplus'"
     ]
    }
   ],
   "source": [
    "import pyinputplus"
   ]
  },
  {
   "cell_type": "code",
   "execution_count": null,
   "id": "c915ec79-1a3a-4640-9ced-34ef6e426a86",
   "metadata": {},
   "outputs": [],
   "source": [
    "# Installation\n",
    "pip install --user pyinputplus"
   ]
  },
  {
   "cell_type": "code",
   "execution_count": 1,
   "id": "e9700dfa-fc39-4e61-8a89-437f33488eb7",
   "metadata": {},
   "outputs": [],
   "source": [
    "import pyinputplus"
   ]
  },
  {
   "cell_type": "code",
   "execution_count": 2,
   "id": "ebb2204b-e216-497b-b6ed-d2afd1952245",
   "metadata": {},
   "outputs": [],
   "source": [
    "import pyinputplus as pyip"
   ]
  },
  {
   "cell_type": "code",
   "execution_count": 5,
   "id": "54a11ea7-dc43-4113-aa49-b567817636d8",
   "metadata": {},
   "outputs": [
    {
     "name": "stdin",
     "output_type": "stream",
     "text": [
      " ABC\n"
     ]
    },
    {
     "name": "stdout",
     "output_type": "stream",
     "text": [
      "'ABC' is not a number.\n"
     ]
    },
    {
     "name": "stdin",
     "output_type": "stream",
     "text": [
      " as\n"
     ]
    },
    {
     "name": "stdout",
     "output_type": "stream",
     "text": [
      "'as' is not a number.\n"
     ]
    },
    {
     "name": "stdin",
     "output_type": "stream",
     "text": [
      " asfs\n"
     ]
    },
    {
     "name": "stdout",
     "output_type": "stream",
     "text": [
      "'asfs' is not a number.\n"
     ]
    },
    {
     "name": "stdin",
     "output_type": "stream",
     "text": [
      " fsfd\n"
     ]
    },
    {
     "name": "stdout",
     "output_type": "stream",
     "text": [
      "'fsfd' is not a number.\n"
     ]
    },
    {
     "name": "stdin",
     "output_type": "stream",
     "text": [
      " 121\n"
     ]
    }
   ],
   "source": [
    "response = pyip.inputNum()"
   ]
  },
  {
   "cell_type": "code",
   "execution_count": 9,
   "id": "8075ff1c-d0d0-4be4-b6a3-cbdc35d3fb7a",
   "metadata": {},
   "outputs": [
    {
     "name": "stdout",
     "output_type": "stream",
     "text": [
      "Enter a number: \n"
     ]
    },
    {
     "name": "stdin",
     "output_type": "stream",
     "text": [
      " 101\n"
     ]
    },
    {
     "name": "stdout",
     "output_type": "stream",
     "text": [
      "Input must be less than or equal to 100\n",
      "Enter a number: \n"
     ]
    },
    {
     "name": "stdin",
     "output_type": "stream",
     "text": [
      " 333\n"
     ]
    },
    {
     "name": "stdout",
     "output_type": "stream",
     "text": [
      "Input must be less than or equal to 100\n",
      "Enter a number: \n"
     ]
    },
    {
     "name": "stdin",
     "output_type": "stream",
     "text": [
      " 11\n"
     ]
    },
    {
     "name": "stdout",
     "output_type": "stream",
     "text": [
      "Num entered is:  11\n"
     ]
    }
   ],
   "source": [
    "# Let's try another example, let's say we want user to not enter number greaterThan 100\n",
    "# Normally what we will do\n",
    "while True:\n",
    "    print(\"Enter a number: \")\n",
    "    num = int(input())\n",
    "    \n",
    "    if num > 100:\n",
    "        print(\"Input must be less than or equal to 100\")\n",
    "        continue\n",
    "    break\n",
    "\n",
    "print('Num entered is: ', num)\n"
   ]
  },
  {
   "cell_type": "code",
   "execution_count": 11,
   "id": "428a360a-7be6-4511-9a24-80e7338382d7",
   "metadata": {},
   "outputs": [
    {
     "name": "stdout",
     "output_type": "stream",
     "text": [
      "Enter num: "
     ]
    },
    {
     "name": "stdin",
     "output_type": "stream",
     "text": [
      " 1111\n"
     ]
    },
    {
     "name": "stdout",
     "output_type": "stream",
     "text": [
      "Number must be less than 100.\n",
      "Enter num: "
     ]
    },
    {
     "name": "stdin",
     "output_type": "stream",
     "text": [
      " 12\n"
     ]
    }
   ],
   "source": [
    "# Again it is difficult to manage if more inputs so pyinputplus also has a solution for it\n",
    "# we can use greaterThan function which is inside pyinputPlus so\n",
    "response = pyip.inputNum('Enter num: ', lessThan=100)"
   ]
  },
  {
   "cell_type": "code",
   "execution_count": 12,
   "id": "5231c162-16c8-43c9-ba13-4260d4a32924",
   "metadata": {},
   "outputs": [
    {
     "name": "stdout",
     "output_type": "stream",
     "text": [
      "Enter num: "
     ]
    },
    {
     "name": "stdin",
     "output_type": "stream",
     "text": [
      " 11\n"
     ]
    },
    {
     "name": "stdout",
     "output_type": "stream",
     "text": [
      "Number must be greater than 100.\n",
      "Enter num: "
     ]
    },
    {
     "name": "stdin",
     "output_type": "stream",
     "text": [
      " 111\n"
     ]
    }
   ],
   "source": [
    "# Likewise we can also use greaterThan\n",
    "response = pyip.inputNum('Enter num: ', greaterThan=100)"
   ]
  },
  {
   "cell_type": "code",
   "execution_count": null,
   "id": "5f72ef9e-7f2b-4cf8-9fc0-6e6f21634756",
   "metadata": {},
   "outputs": [],
   "source": [
    "# To get help\n",
    "help(pyip.inputChoice) "
   ]
  },
  {
   "cell_type": "code",
   "execution_count": null,
   "id": "bba7884a-0704-4b4a-aa3c-6e36d93824af",
   "metadata": {},
   "outputs": [],
   "source": [
    "# https://pyinputplus.readthedocs.io/ (Official website)"
   ]
  }
 ],
 "metadata": {
  "kernelspec": {
   "display_name": "Python 3 (ipykernel)",
   "language": "python",
   "name": "python3"
  },
  "language_info": {
   "codemirror_mode": {
    "name": "ipython",
    "version": 3
   },
   "file_extension": ".py",
   "mimetype": "text/x-python",
   "name": "python",
   "nbconvert_exporter": "python",
   "pygments_lexer": "ipython3",
   "version": "3.9.13"
  }
 },
 "nbformat": 4,
 "nbformat_minor": 5
}
